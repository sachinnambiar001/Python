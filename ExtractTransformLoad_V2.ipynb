{
 "cells": [
  {
   "cell_type": "code",
   "execution_count": 1,
   "id": "54d95e52-0b0f-4eda-a9ac-f76f97024a4f",
   "metadata": {
    "tags": []
   },
   "outputs": [],
   "source": [
    "#!pip install glob\n",
    "#!pip install pandas\n",
    "#!pip install requests\n",
    "#!pip install datetime"
   ]
  },
  {
   "cell_type": "code",
   "execution_count": 2,
   "id": "b99db655-b7a7-4f7f-88f6-5915b93ccad6",
   "metadata": {
    "tags": []
   },
   "outputs": [],
   "source": [
    "import glob\n",
    "# import json\n",
    "import pandas as pd\n",
    "from datetime import datetime"
   ]
  },
  {
   "cell_type": "code",
   "execution_count": 3,
   "id": "1ef176b9-ea30-4b43-b46d-99330dd737ca",
   "metadata": {
    "tags": []
   },
   "outputs": [
    {
     "name": "stdout",
     "output_type": "stream",
     "text": [
      "--2023-09-29 12:31:59--  https://cf-courses-data.s3.us.cloud-object-storage.appdomain.cloud/IBMDeveloperSkillsNetwork-PY0221EN-SkillsNetwork/labs/module%206/Lab%20-%20Extract%20Transform%20Load/data/bank_market_cap_1.json\n",
      "Resolving cf-courses-data.s3.us.cloud-object-storage.appdomain.cloud (cf-courses-data.s3.us.cloud-object-storage.appdomain.cloud)... 169.63.118.104\n",
      "Connecting to cf-courses-data.s3.us.cloud-object-storage.appdomain.cloud (cf-courses-data.s3.us.cloud-object-storage.appdomain.cloud)|169.63.118.104|:443... connected.\n",
      "HTTP request sent, awaiting response... 200 OK\n",
      "Length: 2815 (2.7K) [application/json]\n",
      "Saving to: ‘bank_market_cap_1.json.1’\n",
      "\n",
      "bank_market_cap_1.j 100%[===================>]   2.75K  --.-KB/s    in 0s      \n",
      "\n",
      "2023-09-29 12:31:59 (23.7 MB/s) - ‘bank_market_cap_1.json.1’ saved [2815/2815]\n",
      "\n",
      "--2023-09-29 12:32:00--  https://cf-courses-data.s3.us.cloud-object-storage.appdomain.cloud/IBMDeveloperSkillsNetwork-PY0221EN-SkillsNetwork/labs/module%206/Lab%20-%20Extract%20Transform%20Load/data/bank_market_cap_2.json\n",
      "Resolving cf-courses-data.s3.us.cloud-object-storage.appdomain.cloud (cf-courses-data.s3.us.cloud-object-storage.appdomain.cloud)... 169.63.118.104\n",
      "Connecting to cf-courses-data.s3.us.cloud-object-storage.appdomain.cloud (cf-courses-data.s3.us.cloud-object-storage.appdomain.cloud)|169.63.118.104|:443... connected.\n",
      "HTTP request sent, awaiting response... 200 OK\n",
      "Length: 1429 (1.4K) [application/json]\n",
      "Saving to: ‘bank_market_cap_2.json.1’\n",
      "\n",
      "bank_market_cap_2.j 100%[===================>]   1.40K  --.-KB/s    in 0s      \n",
      "\n",
      "2023-09-29 12:32:00 (11.2 MB/s) - ‘bank_market_cap_2.json.1’ saved [1429/1429]\n",
      "\n",
      "--2023-09-29 12:32:01--  https://cf-courses-data.s3.us.cloud-object-storage.appdomain.cloud/IBMDeveloperSkillsNetwork-PY0221EN-SkillsNetwork/labs/module%206/Final%20Assignment/exchange_rates.csv\n",
      "Resolving cf-courses-data.s3.us.cloud-object-storage.appdomain.cloud (cf-courses-data.s3.us.cloud-object-storage.appdomain.cloud)... 169.63.118.104\n",
      "Connecting to cf-courses-data.s3.us.cloud-object-storage.appdomain.cloud (cf-courses-data.s3.us.cloud-object-storage.appdomain.cloud)|169.63.118.104|:443... connected.\n",
      "HTTP request sent, awaiting response... 200 OK\n",
      "Length: 590 [text/csv]\n",
      "Saving to: ‘exchange_rates.csv.1’\n",
      "\n",
      "exchange_rates.csv. 100%[===================>]     590  --.-KB/s    in 0s      \n",
      "\n",
      "2023-09-29 12:32:01 (4.90 MB/s) - ‘exchange_rates.csv.1’ saved [590/590]\n",
      "\n"
     ]
    }
   ],
   "source": [
    "!wget https://cf-courses-data.s3.us.cloud-object-storage.appdomain.cloud/IBMDeveloperSkillsNetwork-PY0221EN-SkillsNetwork/labs/module%206/Lab%20-%20Extract%20Transform%20Load/data/bank_market_cap_1.json\n",
    "!wget https://cf-courses-data.s3.us.cloud-object-storage.appdomain.cloud/IBMDeveloperSkillsNetwork-PY0221EN-SkillsNetwork/labs/module%206/Lab%20-%20Extract%20Transform%20Load/data/bank_market_cap_2.json\n",
    "!wget https://cf-courses-data.s3.us.cloud-object-storage.appdomain.cloud/IBMDeveloperSkillsNetwork-PY0221EN-SkillsNetwork/labs/module%206/Final%20Assignment/exchange_rates.csv"
   ]
  },
  {
   "cell_type": "code",
   "execution_count": 4,
   "id": "10cd9901-e2a2-43db-ab79-31db526a26f8",
   "metadata": {
    "tags": []
   },
   "outputs": [],
   "source": [
    "df1 = pd.read_json('bank_market_cap_1.json')\n",
    "\n",
    "# Read data from the second JSON file\n",
    "df2 = pd.read_json('bank_market_cap_2.json')\n",
    "\n",
    "# Append the two DataFrames together\n",
    "combined_cap = df1.append(df2, ignore_index=True)\n",
    "combined_cap.to_json('final.json')"
   ]
  },
  {
   "cell_type": "code",
   "execution_count": 5,
   "id": "edd66ae4-aa14-4643-9acb-75ed150ba856",
   "metadata": {
    "tags": []
   },
   "outputs": [],
   "source": [
    "def extract_from_json(file_to_process):\n",
    "    dataframe = pd.read_json(file_to_process)\n",
    "    dataframe.head\n",
    "    #bn=pd.DataFrame(dataframe.columns.value.tolist())['pound_rate']\n",
    "   # pd.DataFrame.from_records(bn).head\n",
    "  #  resp=requests.get(url=\"file_to_process\")\n",
    "    #dff=pd.json_normalize(dataframe,record_path=['Name'])\n",
    "    return dataframe"
   ]
  },
  {
   "cell_type": "code",
   "execution_count": 6,
   "id": "146e62d4-de0e-4fda-84ff-c586de3542e0",
   "metadata": {
    "tags": []
   },
   "outputs": [],
   "source": [
    "def extract():\n",
    "    # Write your code here\n",
    "    extracted_data=pd.DataFrame(columns=['Name','Market Cap (US$ Billion)'])\n",
    "    for jsonfile in glob.glob(\"*l.json\"):\n",
    "        extracted_data=extract_from_json(jsonfile)\n",
    "        \n",
    "    return extracted_data"
   ]
  },
  {
   "cell_type": "code",
   "execution_count": 7,
   "id": "f4171da3-4dbd-4195-b255-5e1b87b1b1c6",
   "metadata": {
    "tags": []
   },
   "outputs": [
    {
     "name": "stdout",
     "output_type": "stream",
     "text": [
      "0.7323984208000001\n"
     ]
    }
   ],
   "source": [
    "df=pd.read_csv(\"exchange_rates.csv\")\n",
    "\n",
    "df.rename( columns={'Unnamed: 0':'Pounds'}, inplace=True )\n",
    "df1=df.loc[df[\"Pounds\"] == 'GBP']\n",
    "df1\n",
    "exchange_rate=float(df1[\"Rates\"].values)\n",
    "print(exchange_rate)"
   ]
  },
  {
   "cell_type": "code",
   "execution_count": 8,
   "id": "cb24abf0-5e71-40fb-81c6-b9226db88afb",
   "metadata": {
    "tags": []
   },
   "outputs": [],
   "source": [
    "def transform(data):\n",
    "    \n",
    "    data['Market Cap (US$ Billion)']= round(data['Market Cap (US$ Billion)']*exchange_rate,3)\n",
    "    #print(data['Market Cap (US$ Billion)'])\n",
    "    data=data.rename(columns={\"Market Cap (US$ Billion)\":\"Market Cap (GBP$ Billion)\"},inplace=False)\n",
    "    return data"
   ]
  },
  {
   "cell_type": "code",
   "execution_count": 9,
   "id": "947396e1-7750-443b-84e2-79de1b8e7d2c",
   "metadata": {
    "tags": []
   },
   "outputs": [],
   "source": [
    "targetfile=\"bank_matket_cap_gbp.csv\"\n",
    "def load(targetfile,datatoload):\n",
    "    # Write your code here\n",
    "    datatoload.to_csv(targetfile, index=False)"
   ]
  },
  {
   "cell_type": "code",
   "execution_count": 10,
   "id": "6f4809ed-9a93-4c56-9655-4b9fdaba1a0c",
   "metadata": {
    "tags": []
   },
   "outputs": [],
   "source": [
    "def log(message):\n",
    "    # Write your code here\n",
    "    timestamp_format='%Y-%h-%d-%H%M%S'\n",
    "    now=datetime.now()\n",
    "    timestamp=now.strftime(timestamp_format)\n",
    "    with open(\"logfile.txt\",\"a\") as f:\n",
    "        f.write(timestamp+','+message+'\\n')"
   ]
  },
  {
   "cell_type": "code",
   "execution_count": 11,
   "id": "7a55705d-a8cc-492a-bcc4-5141b89ae375",
   "metadata": {
    "tags": []
   },
   "outputs": [],
   "source": [
    "log(\"ETL Job Started\")"
   ]
  },
  {
   "cell_type": "code",
   "execution_count": 12,
   "id": "cbcf1eb8-b1bc-4b99-af6c-f3cabe0029be",
   "metadata": {
    "tags": []
   },
   "outputs": [
    {
     "data": {
      "text/html": [
       "<div>\n",
       "<style scoped>\n",
       "    .dataframe tbody tr th:only-of-type {\n",
       "        vertical-align: middle;\n",
       "    }\n",
       "\n",
       "    .dataframe tbody tr th {\n",
       "        vertical-align: top;\n",
       "    }\n",
       "\n",
       "    .dataframe thead th {\n",
       "        text-align: right;\n",
       "    }\n",
       "</style>\n",
       "<table border=\"1\" class=\"dataframe\">\n",
       "  <thead>\n",
       "    <tr style=\"text-align: right;\">\n",
       "      <th></th>\n",
       "      <th>Name</th>\n",
       "      <th>Market Cap (US$ Billion)</th>\n",
       "    </tr>\n",
       "  </thead>\n",
       "  <tbody>\n",
       "    <tr>\n",
       "      <th>0</th>\n",
       "      <td>JPMorgan Chase</td>\n",
       "      <td>390.934</td>\n",
       "    </tr>\n",
       "    <tr>\n",
       "      <th>1</th>\n",
       "      <td>Industrial and Commercial Bank of China</td>\n",
       "      <td>345.214</td>\n",
       "    </tr>\n",
       "    <tr>\n",
       "      <th>2</th>\n",
       "      <td>Bank of America</td>\n",
       "      <td>325.331</td>\n",
       "    </tr>\n",
       "    <tr>\n",
       "      <th>3</th>\n",
       "      <td>Wells Fargo</td>\n",
       "      <td>308.013</td>\n",
       "    </tr>\n",
       "    <tr>\n",
       "      <th>4</th>\n",
       "      <td>China Construction Bank</td>\n",
       "      <td>257.399</td>\n",
       "    </tr>\n",
       "  </tbody>\n",
       "</table>\n",
       "</div>"
      ],
      "text/plain": [
       "                                      Name  Market Cap (US$ Billion)\n",
       "0                           JPMorgan Chase                   390.934\n",
       "1  Industrial and Commercial Bank of China                   345.214\n",
       "2                          Bank of America                   325.331\n",
       "3                              Wells Fargo                   308.013\n",
       "4                  China Construction Bank                   257.399"
      ]
     },
     "execution_count": 12,
     "metadata": {},
     "output_type": "execute_result"
    }
   ],
   "source": [
    "log(\"Extract Phase Started\")\n",
    "extract_data=extract()\n",
    "# Print the rows here\n",
    "extract_data.head()"
   ]
  },
  {
   "cell_type": "code",
   "execution_count": 13,
   "id": "0017219a-cdca-4d30-8699-79dc0d553d52",
   "metadata": {
    "tags": []
   },
   "outputs": [],
   "source": [
    "log(\"Extract Phase Ended\")"
   ]
  },
  {
   "cell_type": "code",
   "execution_count": 14,
   "id": "d2cf7f41-4b4e-4faa-9a5d-ea12ae874196",
   "metadata": {
    "tags": []
   },
   "outputs": [],
   "source": [
    "log(\"Transform Phase Started\")"
   ]
  },
  {
   "cell_type": "code",
   "execution_count": 15,
   "id": "a037f48f-fbe7-4826-b032-72d22e00d163",
   "metadata": {
    "tags": []
   },
   "outputs": [
    {
     "data": {
      "text/html": [
       "<div>\n",
       "<style scoped>\n",
       "    .dataframe tbody tr th:only-of-type {\n",
       "        vertical-align: middle;\n",
       "    }\n",
       "\n",
       "    .dataframe tbody tr th {\n",
       "        vertical-align: top;\n",
       "    }\n",
       "\n",
       "    .dataframe thead th {\n",
       "        text-align: right;\n",
       "    }\n",
       "</style>\n",
       "<table border=\"1\" class=\"dataframe\">\n",
       "  <thead>\n",
       "    <tr style=\"text-align: right;\">\n",
       "      <th></th>\n",
       "      <th>Name</th>\n",
       "      <th>Market Cap (GBP$ Billion)</th>\n",
       "    </tr>\n",
       "  </thead>\n",
       "  <tbody>\n",
       "    <tr>\n",
       "      <th>0</th>\n",
       "      <td>JPMorgan Chase</td>\n",
       "      <td>286.319</td>\n",
       "    </tr>\n",
       "    <tr>\n",
       "      <th>1</th>\n",
       "      <td>Industrial and Commercial Bank of China</td>\n",
       "      <td>252.834</td>\n",
       "    </tr>\n",
       "    <tr>\n",
       "      <th>2</th>\n",
       "      <td>Bank of America</td>\n",
       "      <td>238.272</td>\n",
       "    </tr>\n",
       "    <tr>\n",
       "      <th>3</th>\n",
       "      <td>Wells Fargo</td>\n",
       "      <td>225.588</td>\n",
       "    </tr>\n",
       "    <tr>\n",
       "      <th>4</th>\n",
       "      <td>China Construction Bank</td>\n",
       "      <td>188.519</td>\n",
       "    </tr>\n",
       "  </tbody>\n",
       "</table>\n",
       "</div>"
      ],
      "text/plain": [
       "                                      Name  Market Cap (GBP$ Billion)\n",
       "0                           JPMorgan Chase                    286.319\n",
       "1  Industrial and Commercial Bank of China                    252.834\n",
       "2                          Bank of America                    238.272\n",
       "3                              Wells Fargo                    225.588\n",
       "4                  China Construction Bank                    188.519"
      ]
     },
     "execution_count": 15,
     "metadata": {},
     "output_type": "execute_result"
    }
   ],
   "source": [
    "# Call the function here\n",
    "transformed_data=transform(extract_data)\n",
    "\n",
    "# Print the first 5 rows here\n",
    "transformed_data.head(5)"
   ]
  },
  {
   "cell_type": "code",
   "execution_count": 16,
   "id": "1d2b41a3-7fcd-4a79-af63-8e061d4af830",
   "metadata": {
    "tags": []
   },
   "outputs": [],
   "source": [
    "log(\"Transform Phase Ended\")"
   ]
  },
  {
   "cell_type": "code",
   "execution_count": 17,
   "id": "d307dd0b-a840-4a9b-80ab-7c26d28d303c",
   "metadata": {
    "tags": []
   },
   "outputs": [],
   "source": [
    "log(\"load Phase Started\")"
   ]
  },
  {
   "cell_type": "code",
   "execution_count": 18,
   "id": "915e79b3-c30c-4925-9d96-4787c10bf26e",
   "metadata": {
    "tags": []
   },
   "outputs": [],
   "source": [
    "load(targetfile,transformed_data)"
   ]
  },
  {
   "cell_type": "code",
   "execution_count": 19,
   "id": "53bf533c-15b2-4ec9-984d-9d1c205276e6",
   "metadata": {
    "tags": []
   },
   "outputs": [],
   "source": [
    "log(\"load Phase Ended\")"
   ]
  },
  {
   "cell_type": "code",
   "execution_count": null,
   "id": "47b3455b-4604-406c-8428-f67aa95ecf00",
   "metadata": {},
   "outputs": [],
   "source": []
  }
 ],
 "metadata": {
  "kernelspec": {
   "display_name": "Python",
   "language": "python",
   "name": "conda-env-python-py"
  },
  "language_info": {
   "codemirror_mode": {
    "name": "ipython",
    "version": 3
   },
   "file_extension": ".py",
   "mimetype": "text/x-python",
   "name": "python",
   "nbconvert_exporter": "python",
   "pygments_lexer": "ipython3",
   "version": "3.7.12"
  }
 },
 "nbformat": 4,
 "nbformat_minor": 5
}
